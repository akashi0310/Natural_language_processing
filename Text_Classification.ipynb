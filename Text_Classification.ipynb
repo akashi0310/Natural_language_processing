{
 "cells": [
  {
   "cell_type": "code",
   "execution_count": 19,
   "metadata": {},
   "outputs": [],
   "source": [
    "import pandas as pd\n",
    "import numpy as np\n"
   ]
  },
  {
   "cell_type": "code",
   "execution_count": 20,
   "metadata": {},
   "outputs": [],
   "source": [
    "def load_data(file_path):\n",
    "    data = []\n",
    "    with open(file_path,'r', encoding='utf-8',errors= 'ignore') as f:\n",
    "        for line in f:\n",
    "            line = line.strip()\n",
    "            if line == '':\n",
    "                continue\n",
    "            lb,text = line.split('\\t')\n",
    "            data.append([text,int(lb)])\n",
    "    \n",
    "    return data\n",
    "    \n"
   ]
  },
  {
   "cell_type": "code",
   "execution_count": 21,
   "metadata": {},
   "outputs": [],
   "source": [
    "train_data = load_data(\"titles-en-train.labeled\")\n",
    "test_data = load_data(\"titles-en-test.labeled\")\n"
   ]
  },
  {
   "cell_type": "code",
   "execution_count": 22,
   "metadata": {},
   "outputs": [
    {
     "data": {
      "text/plain": [
       "['FUJIWARA no Chikamori ( year of birth and death unknown ) was a samurai and poet who lived at the end of the Heian period .',\n",
       " 1]"
      ]
     },
     "execution_count": 22,
     "metadata": {},
     "output_type": "execute_result"
    }
   ],
   "source": [
    "train_data[0]\n"
   ]
  },
  {
   "cell_type": "code",
   "execution_count": 23,
   "metadata": {},
   "outputs": [],
   "source": [
    "from collections import defaultdict\n",
    "\n",
    "class Perceptron:\n",
    "    def __init__(self,eta=0.001,n_inter=10):\n",
    "        self.eta = eta\n",
    "        self.n_inter = n_inter\n",
    "    \n",
    "    def create_features(self,x):\n",
    "        phi = defaultdict(int)\n",
    "        words = x.split()\n",
    "        for word in words:\n",
    "            phi[\"Uni:\" + word] += 1\n",
    "        for i in range(len(words)-1):\n",
    "            phi[\"Bi:\" +words[i]+ \" \"+ words[i+1]] += 1\n",
    "        return phi\n",
    "\n",
    "    def predict_one(self,w,phi):   \n",
    "        score = 0\n",
    "        for name,value in phi.items():\n",
    "            if name in w:\n",
    "                score += value * w[name]\n",
    "            if score >= 0:\n",
    "                return 1\n",
    "            else:\n",
    "                return -1 \n",
    "    \n",
    "    def classify(self,x):\n",
    "        phi = self.create_features(x)\n",
    "        y_hat = self.predict_one(self.w,phi)\n",
    "        return y_hat\n",
    "        \n",
    "    def predict_all(self,test_sample):\n",
    "        y_pred = []\n",
    "        for x in test_sample:\n",
    "            y_pred.append(self.classify(x))\n",
    "        return y_pred\n",
    "    \n",
    "    def update_weights(self,w,phi,y):\n",
    "        for name,value in phi.items():\n",
    "            w[name] += value*y   \n",
    "                            \n",
    "    def train(self,data):\n",
    "        self.w = defaultdict(int)\n",
    "        for _ in range(self.n_inter):\n",
    "            for x,y in data:\n",
    "                phi = self.create_features(x)\n",
    "                y_pred = self.predict_one(self.w,phi)\n",
    "                if y != y_pred:\n",
    "                    self.update_weights(self.w,phi,y)\n",
    "                \n"
   ]
  },
  {
   "cell_type": "code",
   "execution_count": 24,
   "metadata": {},
   "outputs": [],
   "source": [
    "model = Perceptron(eta=1)\n",
    "model.train(train_data)\n"
   ]
  },
  {
   "cell_type": "code",
   "execution_count": 25,
   "metadata": {},
   "outputs": [
    {
     "data": {
      "text/plain": [
       "['Kotaifujin ( also called Sumemioya ) means a person who was the biological mother of an Emperor and consort of the previous Emperor .',\n",
       " 1]"
      ]
     },
     "execution_count": 25,
     "metadata": {},
     "output_type": "execute_result"
    }
   ],
   "source": [
    "test_data[1]\n"
   ]
  },
  {
   "cell_type": "code",
   "execution_count": 26,
   "metadata": {},
   "outputs": [
    {
     "data": {
      "text/plain": [
       "1"
      ]
     },
     "execution_count": 26,
     "metadata": {},
     "output_type": "execute_result"
    }
   ],
   "source": [
    "model.classify(test_data[1][0])\n"
   ]
  },
  {
   "cell_type": "code",
   "execution_count": 27,
   "metadata": {},
   "outputs": [
    {
     "name": "stdout",
     "output_type": "stream",
     "text": [
      "Accuracy:  0.6539142755933404\n"
     ]
    }
   ],
   "source": [
    "from sklearn import metrics \n",
    "\n",
    "X_test,y_true = zip(*test_data)\n",
    "y_preds = model.predict_all(X_test)\n",
    "\n",
    "print(\"Accuracy: \",metrics.accuracy_score(y_true,y_preds))\n"
   ]
  }
 ],
 "metadata": {
  "kernelspec": {
   "display_name": "nlp",
   "language": "python",
   "name": "python3"
  },
  "language_info": {
   "codemirror_mode": {
    "name": "ipython",
    "version": 3
   },
   "file_extension": ".py",
   "mimetype": "text/x-python",
   "name": "python",
   "nbconvert_exporter": "python",
   "pygments_lexer": "ipython3",
   "version": "3.13.2"
  }
 },
 "nbformat": 4,
 "nbformat_minor": 2
}
